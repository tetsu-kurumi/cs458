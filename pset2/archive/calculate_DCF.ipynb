{
 "cells": [
  {
   "cell_type": "code",
   "execution_count": 1,
   "metadata": {},
   "outputs": [],
   "source": [
    "from yahooquery import Ticker\n",
    "import numpy as np"
   ]
  },
  {
   "cell_type": "code",
   "execution_count": 126,
   "metadata": {},
   "outputs": [
    {
     "name": "stdout",
     "output_type": "stream",
     "text": [
      "{'maxAge': 86400, 'currentPrice': 169.0, 'targetHighPrice': 250.0, 'targetLowPrice': 158.0, 'targetMeanPrice': 201.41, 'targetMedianPrice': 200.0, 'recommendationMean': 2.1, 'recommendationKey': 'buy', 'numberOfAnalystOpinions': 39, 'totalCash': 73100001280, 'totalCashPerShare': 4.734, 'ebitda': 130108997632, 'totalDebt': 108040003584, 'quickRatio': 0.92, 'currentRatio': 1.073, 'totalRevenue': 385706000384, 'debtToEquity': 145.803, 'revenuePerShare': 24.648, 'returnOnAssets': 0.21181, 'returnOnEquity': 1.5426899, 'freeCashflow': 86563127296, 'operatingCashflow': 116433002496, 'earningsGrowth': 0.16, 'revenueGrowth': 0.021, 'grossMargins': 0.45027, 'ebitdaMargins': 0.33733, 'operatingMargins': 0.33764, 'profitMargins': 0.26163, 'financialCurrency': 'USD'}\n"
     ]
    }
   ],
   "source": [
    "stock = 'aapl'\n",
    "ticker = Ticker(stock)\n",
    "financial_data = ticker.financial_data\n",
    "print(financial_data[stock])"
   ]
  },
  {
   "cell_type": "code",
   "execution_count": null,
   "metadata": {},
   "outputs": [],
   "source": [
    "{'msft': {'maxAge': 86400, 'currentPrice': 408.1426, 'targetHighPrice': 546.44, 'targetLowPrice': 298.1, 'targetMeanPrice': 456.24, 'targetMedianPrice': 455.0, 'recommendationMean': 1.7, 'recommendationKey': 'buy', 'numberOfAnalystOpinions': 46, 'totalCash': 80981999616, 'totalCashPerShare': 10.899, 'ebitda': 118427000832, 'totalDebt': 111358001152, 'quickRatio': 1.096, 'currentRatio': 1.218, 'totalRevenue': 227583000576, 'debtToEquity': 46.736, 'revenuePerShare': 30.612, 'returnOnAssets': 0.1519, 'returnOnEquity': 0.39174, 'freeCashflow': 58680999936, 'operatingCashflow': 102646996992, 'earningsGrowth': 0.332, 'revenueGrowth': 0.176, 'grossMargins': 0.69815004, 'ebitdaMargins': 0.52037, 'operatingMargins': 0.43585998, 'profitMargins': 0.36269, 'financialCurrency': 'USD'}}"
   ]
  },
  {
   "cell_type": "code",
   "execution_count": 42,
   "metadata": {},
   "outputs": [
    {
     "name": "stdout",
     "output_type": "stream",
     "text": [
      "         asOfDate periodType currencyCode  BasicAverageShares  BasicEPS  \\\n",
      "symbol                                                                    \n",
      "msft   2020-06-30        12M          USD        7.610000e+09      5.82   \n",
      "msft   2021-06-30        12M          USD        7.547000e+09      8.12   \n",
      "msft   2022-06-30        12M          USD        7.496000e+09      9.70   \n",
      "msft   2023-06-30        12M          USD        7.446000e+09      9.72   \n",
      "msft   2023-09-30        TTM          USD        7.439000e+09     10.37   \n",
      "msft   2023-12-31        TTM          USD        7.434500e+09     11.10   \n",
      "\n",
      "        CostOfRevenue  DilutedAverageShares  DilutedEPS  \\\n",
      "symbol                                                    \n",
      "msft     4.607800e+10          7.683000e+09        5.76   \n",
      "msft     5.223200e+10          7.608000e+09        8.05   \n",
      "msft     6.265000e+10          7.540000e+09        9.65   \n",
      "msft     6.586300e+10          7.472000e+09        9.68   \n",
      "msft              NaN          7.466250e+09       10.32   \n",
      "msft     6.884800e+10          7.465000e+09       11.06   \n",
      "\n",
      "        DilutedNIAvailtoComStockholders          EBIT  ...  \\\n",
      "symbol                                                 ...   \n",
      "msft                       4.428100e+10  5.562700e+10  ...   \n",
      "msft                       6.127100e+10  7.344800e+10  ...   \n",
      "msft                       7.273800e+10  8.577900e+10  ...   \n",
      "msft                       7.236100e+10  9.127900e+10  ...   \n",
      "msft                                NaN           NaN  ...   \n",
      "msft                       8.254100e+10  1.036220e+11  ...   \n",
      "\n",
      "        SpecialIncomeCharges  TaxEffectOfUnusualItems  TaxProvision  \\\n",
      "symbol                                                                \n",
      "msft            -133000000.0             4.760000e+06  8.755000e+09   \n",
      "msft             -13000000.0             1.801608e+08  9.831000e+09   \n",
      "msft            -101000000.0             4.342000e+07  1.097800e+10   \n",
      "msft             -30000000.0            -2.850000e+06  1.695000e+10   \n",
      "msft                     NaN                      NaN           NaN   \n",
      "msft            -168000000.0            -7.378322e+05  1.866900e+10   \n",
      "\n",
      "        TaxRateForCalcs  TotalExpenses  TotalOperatingIncomeAsReported  \\\n",
      "symbol                                                                   \n",
      "msft           0.170000   9.005600e+10                    5.295900e+10   \n",
      "msft           0.138266   9.817200e+10                    6.991600e+10   \n",
      "msft           0.130000   1.148870e+11                    8.338300e+10   \n",
      "msft           0.190000   1.233920e+11                    8.852300e+10   \n",
      "msft                NaN            NaN                             NaN   \n",
      "msft           0.184458   1.270500e+11                    1.005330e+11   \n",
      "\n",
      "        TotalRevenue  TotalUnusualItems  TotalUnusualItemsExcludingGoodwill  \\\n",
      "symbol                                                                        \n",
      "msft    1.430150e+11       2.800000e+07                        2.800000e+07   \n",
      "msft    1.680880e+11       1.303000e+09                        1.303000e+09   \n",
      "msft    1.982700e+11       3.340000e+08                        3.340000e+08   \n",
      "msft    2.119150e+11      -1.500000e+07                       -1.500000e+07   \n",
      "msft             NaN                NaN                                 NaN   \n",
      "msft    2.275830e+11      -4.000000e+06                       -4.000000e+06   \n",
      "\n",
      "           WriteOff  \n",
      "symbol               \n",
      "msft    133000000.0  \n",
      "msft     13000000.0  \n",
      "msft    101000000.0  \n",
      "msft     30000000.0  \n",
      "msft            NaN  \n",
      "msft    168000000.0  \n",
      "\n",
      "[6 rows x 50 columns]\n",
      "['asOfDate', 'periodType', 'currencyCode', 'BasicAverageShares', 'BasicEPS', 'CostOfRevenue', 'DilutedAverageShares', 'DilutedEPS', 'DilutedNIAvailtoComStockholders', 'EBIT', 'EBITDA', 'GainOnSaleOfSecurity', 'GeneralAndAdministrativeExpense', 'GrossProfit', 'InterestExpense', 'InterestExpenseNonOperating', 'InterestIncome', 'InterestIncomeNonOperating', 'NetIncome', 'NetIncomeCommonStockholders', 'NetIncomeContinuousOperations', 'NetIncomeFromContinuingAndDiscontinuedOperation', 'NetIncomeFromContinuingOperationNetMinorityInterest', 'NetIncomeIncludingNoncontrollingInterests', 'NetInterestIncome', 'NetNonOperatingInterestIncomeExpense', 'NormalizedEBITDA', 'NormalizedIncome', 'OperatingExpense', 'OperatingIncome', 'OperatingRevenue', 'OtherGandA', 'OtherIncomeExpense', 'OtherNonOperatingIncomeExpenses', 'PretaxIncome', 'ReconciledCostOfRevenue', 'ReconciledDepreciation', 'ResearchAndDevelopment', 'SellingAndMarketingExpense', 'SellingGeneralAndAdministration', 'SpecialIncomeCharges', 'TaxEffectOfUnusualItems', 'TaxProvision', 'TaxRateForCalcs', 'TotalExpenses', 'TotalOperatingIncomeAsReported', 'TotalRevenue', 'TotalUnusualItems', 'TotalUnusualItemsExcludingGoodwill', 'WriteOff']\n"
     ]
    }
   ],
   "source": [
    "ticker = Ticker('msft')\n",
    "revenue_data = ticker.financial_data()\n",
    "revenue_data = revenue_data[revenue_data['asOfDate'].duplicated() == False]\n",
    "print(revenue_data)\n",
    "print(list(revenue_data.columns))"
   ]
  },
  {
   "cell_type": "code",
   "execution_count": 47,
   "metadata": {},
   "outputs": [
    {
     "name": "stdout",
     "output_type": "stream",
     "text": [
      "Perpetual Growth Rate: 0.1275090393564646\n"
     ]
    }
   ],
   "source": [
    "# Replace 'AAPL' with the ticker symbol of the company you're interested in\n",
    "ticker = Ticker('aapl')\n",
    "\n",
    "# Retrieve historical revenue data\n",
    "revenue_data = ticker.income_statement(trailing=False)['TotalRevenue']\n",
    "\n",
    "# Calculate growth rates\n",
    "growth_rates = revenue_data.pct_change()\n",
    "\n",
    "# Calculate average growth rate\n",
    "perp_growth_rate = growth_rates.mean()\n",
    "\n",
    "print(\"Perpetual Growth Rate:\", perp_growth_rate)"
   ]
  },
  {
   "cell_type": "code",
   "execution_count": 137,
   "metadata": {},
   "outputs": [
    {
     "data": {
      "text/plain": [
       "{'amcr': {'address1': 'Thurgauerstrasse 34',\n",
       "  'city': 'Zurich',\n",
       "  'zip': '8050',\n",
       "  'country': 'Switzerland',\n",
       "  'phone': '41 44 316 1717',\n",
       "  'website': 'https://www.amcor.com',\n",
       "  'industry': 'Packaging & Containers',\n",
       "  'industryKey': 'packaging-containers',\n",
       "  'industryDisp': 'Packaging & Containers',\n",
       "  'sector': 'Consumer Cyclical',\n",
       "  'sectorKey': 'consumer-cyclical',\n",
       "  'sectorDisp': 'Consumer Cyclical',\n",
       "  'longBusinessSummary': 'Amcor plc develops, produces, and sells packaging products in Europe, North America, Latin America, Africa, and the Asia Pacific regions. The company operates through two segments, Flexibles and Rigid Packaging. The Flexibles segment provides flexible and film packaging products in the food and beverage, medical and pharmaceutical, fresh produce, snack food, personal care, and other industries. The Rigid Packaging segment offers rigid containers for various beverage and food products, including carbonated soft drinks, water, juices, sports drinks, milk-based beverages, spirits and beer, sauces, dressings, spreads, and personal care items; and plastic caps for various applications. The company sells its products through its direct sales force. Amcor plc was incorporated in 2018 and is headquartered in Zurich, Switzerland.',\n",
       "  'fullTimeEmployees': 41000,\n",
       "  'companyOfficers': [],\n",
       "  'maxAge': 86400}}"
      ]
     },
     "execution_count": 137,
     "metadata": {},
     "output_type": "execute_result"
    }
   ],
   "source": [
    "SECTORS = ['Healthcare', 'Basic Materials', 'Energy', 'Consumer discretionary', 'Consumer staples',\n",
    "            'Industrials', 'Utilities', 'Financials', 'Technology', 'Communication services',\n",
    "            'Real estate']\n",
    "Ticker('amcr').summary_profile"
   ]
  },
  {
   "cell_type": "code",
   "execution_count": 148,
   "metadata": {},
   "outputs": [
    {
     "data": {
      "text/plain": [
       "<bound method Ticker.all_financial_data of <yahooquery.ticker.Ticker object at 0x13d25e510>>"
      ]
     },
     "execution_count": 148,
     "metadata": {},
     "output_type": "execute_result"
    }
   ],
   "source": []
  },
  {
   "cell_type": "code",
   "execution_count": 149,
   "metadata": {},
   "outputs": [],
   "source": [
    "import pandas as pd\n",
    "import numpy as np\n",
    "from yahooquery import Ticker\n",
    "\n",
    "stock = 'aapl'\n",
    "ticker = Ticker(stock)"
   ]
  },
  {
   "cell_type": "code",
   "execution_count": 150,
   "metadata": {},
   "outputs": [
    {
     "name": "stderr",
     "output_type": "stream",
     "text": [
      "/var/folders/dj/d6jjsbn56jbg6j4z1r0_rgzr0000gn/T/ipykernel_7584/225271617.py:6: FutureWarning: Series.__getitem__ treating keys as positions is deprecated. In a future version, integer keys will always be treated as labels (consistent with DataFrame behavior). To access a value by position, use `ser.iloc[pos]`\n",
      "  peratio = ticker.valuation_measures['PeRatio'][-2] # current P/E for the stock\n"
     ]
    },
    {
     "data": {
      "text/plain": [
       "184.52083142936"
      ]
     },
     "execution_count": 150,
     "metadata": {},
     "output_type": "execute_result"
    }
   ],
   "source": [
    "# Calculating intrinsic value using P/E ratio\n",
    "# Based on https://www.cmcmarkets.com/en/trading-guides/intrinsic-value#:~:text=EPS%20x%20(1%20%2B%20r)%20x%20P%2FE&text=r%20is%20expected%20growth%20rate,0.15)%20x%2029%20%3D%20%24170.\n",
    "\n",
    "eps = ticker.key_stats[stock]['trailingEps'] # amount of earning over the last year\n",
    "r = ticker.earnings_trend[stock]['trend'][-3]['growth'] # expected growth rate of earnings\n",
    "peratio = ticker.valuation_measures['PeRatio'][-2] # current P/E for the stock\n",
    "intrinsic_value = eps * (1 + r) * peratio\n",
    "\n",
    "intrinsic_value"
   ]
  },
  {
   "cell_type": "code",
   "execution_count": 133,
   "metadata": {},
   "outputs": [
    {
     "name": "stderr",
     "output_type": "stream",
     "text": [
      "/var/folders/dj/d6jjsbn56jbg6j4z1r0_rgzr0000gn/T/ipykernel_7584/3387155637.py:29: FutureWarning: Series.__getitem__ treating keys as positions is deprecated. In a future version, integer keys will always be treated as labels (consistent with DataFrame behavior). To access a value by position, use `ser.iloc[pos]`\n",
      "  cash_and_equivalents = ticker.balance_sheet()['CashAndCashEquivalents'][-1]\n",
      "/var/folders/dj/d6jjsbn56jbg6j4z1r0_rgzr0000gn/T/ipykernel_7584/3387155637.py:30: FutureWarning: Series.__getitem__ treating keys as positions is deprecated. In a future version, integer keys will always be treated as labels (consistent with DataFrame behavior). To access a value by position, use `ser.iloc[pos]`\n",
      "  current_debt = ticker.balance_sheet()['CurrentDebt'][-1]\n",
      "/var/folders/dj/d6jjsbn56jbg6j4z1r0_rgzr0000gn/T/ipykernel_7584/3387155637.py:31: FutureWarning: Series.__getitem__ treating keys as positions is deprecated. In a future version, integer keys will always be treated as labels (consistent with DataFrame behavior). To access a value by position, use `ser.iloc[pos]`\n",
      "  long_term_debt = ticker.balance_sheet()['LongTermDebt'][-1]\n"
     ]
    },
    {
     "data": {
      "text/plain": [
       "524.9082442429377"
      ]
     },
     "execution_count": 133,
     "metadata": {},
     "output_type": "execute_result"
    }
   ],
   "source": [
    "PROJECTION_YEARS = 5\n",
    "PERP_GROWTH_RATE = 0.08\n",
    "WACC_RATE = 0.092\n",
    "\n",
    "discount_rate = 0.088  # Assumed discount rate\n",
    "growth_rate = 0.04  # Assumed long-term growth rate\n",
    "\n",
    "# Calculate Future FCF\n",
    "fcf = ticker.financial_data[stock]['freeCashflow']\n",
    "\n",
    "ffcf = []\n",
    "\n",
    "# Year 1\n",
    "ffcf.append(fcf * (1 + growth_rate))\n",
    "\n",
    "# Starting from 2nd year\n",
    "for i in range(1, PROJECTION_YEARS):\n",
    "    ffcf.append(ffcf[i-1] * (1 + growth_rate))\n",
    "\n",
    "terminal_value = ffcf[-1] * (1 + PERP_GROWTH_RATE)/(WACC_RATE - PERP_GROWTH_RATE)\n",
    "ffcf[-1] = ffcf[-1] + terminal_value\n",
    "\n",
    "# Calculate dcf using npv - add zero or else the method assumes\n",
    "# first value as the initial investment\n",
    "n = len(ffcf)\n",
    "present_values = [(ffcf[i] / (1 + WACC_RATE) ** (i + 1)) for i in range(n)]\n",
    "enterprise_value = sum(present_values)\n",
    "\n",
    "cash_and_equivalents = ticker.balance_sheet()['CashAndCashEquivalents'][-1]\n",
    "current_debt = ticker.balance_sheet()['CurrentDebt'][-1]\n",
    "long_term_debt = ticker.balance_sheet()['LongTermDebt'][-1]\n",
    "shares_outstanding = ticker.key_stats[stock]['sharesOutstanding']\n",
    "\n",
    "equity_value = enterprise_value + cash_and_equivalents - (current_debt +  long_term_debt)\n",
    "intrinsic_value = equity_value / shares_outstanding\n",
    "\n",
    "intrinsic_value"
   ]
  },
  {
   "cell_type": "code",
   "execution_count": 124,
   "metadata": {},
   "outputs": [
    {
     "name": "stdout",
     "output_type": "stream",
     "text": [
      "Discounted Cash Flow (DCF): 107.67936335049356\n"
     ]
    }
   ],
   "source": [
    "# Given DataFrame for cash flow\n",
    "df = ticker.cash_flow(trailing=False)[['FreeCashFlow']]\n",
    "\n",
    "# Calculate Discounted Cash Flow (DCF)\n",
    "discount_rate = 0.088  # Assumed discount rate\n",
    "growth_rate = 0.04  # Assumed long-term growth rate\n",
    "\n",
    "# Calculate present value of Free Cash Flows\n",
    "df['PV_FreeCashFlow'] = df['FreeCashFlow'] / ((1 + discount_rate) ** (df.shape[0] + 1))\n",
    "\n",
    "# Calculate Terminal Value using Gordon Growth Model\n",
    "last_fcf = df['FreeCashFlow'].iloc[-1]\n",
    "terminal_value = (last_fcf * (1 + growth_rate)) / (discount_rate - growth_rate)\n",
    "\n",
    "# Calculate DCF\n",
    "present_value_fcf = df['PV_FreeCashFlow'].sum()\n",
    "dcf = present_value_fcf + (terminal_value / ((1 + discount_rate) ** (df.shape[0] + 1)))\n",
    "\n",
    "print(\"Discounted Cash Flow (DCF):\", dcf/ticker.key_stats[stock]['sharesOutstanding'])"
   ]
  },
  {
   "cell_type": "code",
   "execution_count": 151,
   "metadata": {},
   "outputs": [
    {
     "data": {
      "text/html": [
       "<div>\n",
       "<style scoped>\n",
       "    .dataframe tbody tr th:only-of-type {\n",
       "        vertical-align: middle;\n",
       "    }\n",
       "\n",
       "    .dataframe tbody tr th {\n",
       "        vertical-align: top;\n",
       "    }\n",
       "\n",
       "    .dataframe thead th {\n",
       "        text-align: right;\n",
       "    }\n",
       "</style>\n",
       "<table border=\"1\" class=\"dataframe\">\n",
       "  <thead>\n",
       "    <tr style=\"text-align: right;\">\n",
       "      <th></th>\n",
       "      <th>asOfDate</th>\n",
       "      <th>periodType</th>\n",
       "      <th>currencyCode</th>\n",
       "      <th>BeginningCashPosition</th>\n",
       "      <th>CapitalExpenditure</th>\n",
       "      <th>CashDividendsPaid</th>\n",
       "      <th>CashFlowFromContinuingFinancingActivities</th>\n",
       "      <th>CashFlowFromContinuingInvestingActivities</th>\n",
       "      <th>CashFlowFromContinuingOperatingActivities</th>\n",
       "      <th>ChangeInAccountPayable</th>\n",
       "      <th>...</th>\n",
       "      <th>NetShortTermDebtIssuance</th>\n",
       "      <th>OperatingCashFlow</th>\n",
       "      <th>OtherNonCashItems</th>\n",
       "      <th>PurchaseOfBusiness</th>\n",
       "      <th>PurchaseOfInvestment</th>\n",
       "      <th>PurchaseOfPPE</th>\n",
       "      <th>RepaymentOfDebt</th>\n",
       "      <th>RepurchaseOfCapitalStock</th>\n",
       "      <th>SaleOfInvestment</th>\n",
       "      <th>StockBasedCompensation</th>\n",
       "    </tr>\n",
       "    <tr>\n",
       "      <th>symbol</th>\n",
       "      <th></th>\n",
       "      <th></th>\n",
       "      <th></th>\n",
       "      <th></th>\n",
       "      <th></th>\n",
       "      <th></th>\n",
       "      <th></th>\n",
       "      <th></th>\n",
       "      <th></th>\n",
       "      <th></th>\n",
       "      <th></th>\n",
       "      <th></th>\n",
       "      <th></th>\n",
       "      <th></th>\n",
       "      <th></th>\n",
       "      <th></th>\n",
       "      <th></th>\n",
       "      <th></th>\n",
       "      <th></th>\n",
       "      <th></th>\n",
       "      <th></th>\n",
       "    </tr>\n",
       "  </thead>\n",
       "  <tbody>\n",
       "    <tr>\n",
       "      <th>aapl</th>\n",
       "      <td>2020-09-30</td>\n",
       "      <td>12M</td>\n",
       "      <td>USD</td>\n",
       "      <td>5.022400e+10</td>\n",
       "      <td>-7.309000e+09</td>\n",
       "      <td>-1.408100e+10</td>\n",
       "      <td>-8.682000e+10</td>\n",
       "      <td>-4.289000e+09</td>\n",
       "      <td>8.067400e+10</td>\n",
       "      <td>-4.062000e+09</td>\n",
       "      <td>...</td>\n",
       "      <td>-9.630000e+08</td>\n",
       "      <td>8.067400e+10</td>\n",
       "      <td>-9.700000e+07</td>\n",
       "      <td>-1.524000e+09</td>\n",
       "      <td>-1.149380e+11</td>\n",
       "      <td>-7.309000e+09</td>\n",
       "      <td>-1.262900e+10</td>\n",
       "      <td>-7.235800e+10</td>\n",
       "      <td>1.203910e+11</td>\n",
       "      <td>6.829000e+09</td>\n",
       "    </tr>\n",
       "    <tr>\n",
       "      <th>aapl</th>\n",
       "      <td>2021-09-30</td>\n",
       "      <td>12M</td>\n",
       "      <td>USD</td>\n",
       "      <td>3.978900e+10</td>\n",
       "      <td>-1.108500e+10</td>\n",
       "      <td>-1.446700e+10</td>\n",
       "      <td>-9.335300e+10</td>\n",
       "      <td>-1.454500e+10</td>\n",
       "      <td>1.040380e+11</td>\n",
       "      <td>1.232600e+10</td>\n",
       "      <td>...</td>\n",
       "      <td>1.022000e+09</td>\n",
       "      <td>1.040380e+11</td>\n",
       "      <td>-4.921000e+09</td>\n",
       "      <td>-3.300000e+07</td>\n",
       "      <td>-1.095580e+11</td>\n",
       "      <td>-1.108500e+10</td>\n",
       "      <td>-8.750000e+09</td>\n",
       "      <td>-8.597100e+10</td>\n",
       "      <td>1.064830e+11</td>\n",
       "      <td>7.906000e+09</td>\n",
       "    </tr>\n",
       "    <tr>\n",
       "      <th>aapl</th>\n",
       "      <td>2022-09-30</td>\n",
       "      <td>12M</td>\n",
       "      <td>USD</td>\n",
       "      <td>3.592900e+10</td>\n",
       "      <td>-1.070800e+10</td>\n",
       "      <td>-1.484100e+10</td>\n",
       "      <td>-1.107490e+11</td>\n",
       "      <td>-2.235400e+10</td>\n",
       "      <td>1.221510e+11</td>\n",
       "      <td>9.448000e+09</td>\n",
       "      <td>...</td>\n",
       "      <td>3.955000e+09</td>\n",
       "      <td>1.221510e+11</td>\n",
       "      <td>1.006000e+09</td>\n",
       "      <td>-3.060000e+08</td>\n",
       "      <td>-7.692300e+10</td>\n",
       "      <td>-1.070800e+10</td>\n",
       "      <td>-9.543000e+09</td>\n",
       "      <td>-8.940200e+10</td>\n",
       "      <td>6.736300e+10</td>\n",
       "      <td>9.038000e+09</td>\n",
       "    </tr>\n",
       "    <tr>\n",
       "      <th>aapl</th>\n",
       "      <td>2023-09-30</td>\n",
       "      <td>12M</td>\n",
       "      <td>USD</td>\n",
       "      <td>2.497700e+10</td>\n",
       "      <td>-1.095900e+10</td>\n",
       "      <td>-1.502500e+10</td>\n",
       "      <td>-1.084880e+11</td>\n",
       "      <td>3.705000e+09</td>\n",
       "      <td>1.105430e+11</td>\n",
       "      <td>-1.889000e+09</td>\n",
       "      <td>...</td>\n",
       "      <td>-3.978000e+09</td>\n",
       "      <td>1.105430e+11</td>\n",
       "      <td>-2.227000e+09</td>\n",
       "      <td>NaN</td>\n",
       "      <td>-2.951300e+10</td>\n",
       "      <td>-1.095900e+10</td>\n",
       "      <td>-1.115100e+10</td>\n",
       "      <td>-7.755000e+10</td>\n",
       "      <td>4.551400e+10</td>\n",
       "      <td>1.083300e+10</td>\n",
       "    </tr>\n",
       "  </tbody>\n",
       "</table>\n",
       "<p>4 rows × 58 columns</p>\n",
       "</div>"
      ],
      "text/plain": [
       "         asOfDate periodType currencyCode  BeginningCashPosition  \\\n",
       "symbol                                                             \n",
       "aapl   2020-09-30        12M          USD           5.022400e+10   \n",
       "aapl   2021-09-30        12M          USD           3.978900e+10   \n",
       "aapl   2022-09-30        12M          USD           3.592900e+10   \n",
       "aapl   2023-09-30        12M          USD           2.497700e+10   \n",
       "\n",
       "        CapitalExpenditure  CashDividendsPaid  \\\n",
       "symbol                                          \n",
       "aapl         -7.309000e+09      -1.408100e+10   \n",
       "aapl         -1.108500e+10      -1.446700e+10   \n",
       "aapl         -1.070800e+10      -1.484100e+10   \n",
       "aapl         -1.095900e+10      -1.502500e+10   \n",
       "\n",
       "        CashFlowFromContinuingFinancingActivities  \\\n",
       "symbol                                              \n",
       "aapl                                -8.682000e+10   \n",
       "aapl                                -9.335300e+10   \n",
       "aapl                                -1.107490e+11   \n",
       "aapl                                -1.084880e+11   \n",
       "\n",
       "        CashFlowFromContinuingInvestingActivities  \\\n",
       "symbol                                              \n",
       "aapl                                -4.289000e+09   \n",
       "aapl                                -1.454500e+10   \n",
       "aapl                                -2.235400e+10   \n",
       "aapl                                 3.705000e+09   \n",
       "\n",
       "        CashFlowFromContinuingOperatingActivities  ChangeInAccountPayable  \\\n",
       "symbol                                                                      \n",
       "aapl                                 8.067400e+10           -4.062000e+09   \n",
       "aapl                                 1.040380e+11            1.232600e+10   \n",
       "aapl                                 1.221510e+11            9.448000e+09   \n",
       "aapl                                 1.105430e+11           -1.889000e+09   \n",
       "\n",
       "        ...  NetShortTermDebtIssuance  OperatingCashFlow  OtherNonCashItems  \\\n",
       "symbol  ...                                                                   \n",
       "aapl    ...             -9.630000e+08       8.067400e+10      -9.700000e+07   \n",
       "aapl    ...              1.022000e+09       1.040380e+11      -4.921000e+09   \n",
       "aapl    ...              3.955000e+09       1.221510e+11       1.006000e+09   \n",
       "aapl    ...             -3.978000e+09       1.105430e+11      -2.227000e+09   \n",
       "\n",
       "        PurchaseOfBusiness  PurchaseOfInvestment  PurchaseOfPPE  \\\n",
       "symbol                                                            \n",
       "aapl         -1.524000e+09         -1.149380e+11  -7.309000e+09   \n",
       "aapl         -3.300000e+07         -1.095580e+11  -1.108500e+10   \n",
       "aapl         -3.060000e+08         -7.692300e+10  -1.070800e+10   \n",
       "aapl                   NaN         -2.951300e+10  -1.095900e+10   \n",
       "\n",
       "        RepaymentOfDebt  RepurchaseOfCapitalStock  SaleOfInvestment  \\\n",
       "symbol                                                                \n",
       "aapl      -1.262900e+10             -7.235800e+10      1.203910e+11   \n",
       "aapl      -8.750000e+09             -8.597100e+10      1.064830e+11   \n",
       "aapl      -9.543000e+09             -8.940200e+10      6.736300e+10   \n",
       "aapl      -1.115100e+10             -7.755000e+10      4.551400e+10   \n",
       "\n",
       "        StockBasedCompensation  \n",
       "symbol                          \n",
       "aapl              6.829000e+09  \n",
       "aapl              7.906000e+09  \n",
       "aapl              9.038000e+09  \n",
       "aapl              1.083300e+10  \n",
       "\n",
       "[4 rows x 58 columns]"
      ]
     },
     "execution_count": 151,
     "metadata": {},
     "output_type": "execute_result"
    }
   ],
   "source": [
    "ticker.cash_flow(trailing=False)"
   ]
  },
  {
   "cell_type": "code",
   "execution_count": 127,
   "metadata": {},
   "outputs": [],
   "source": [
    "def calculate_dcf(stock_symbol):\n",
    "    # Fetch data from Yahoo Finance\n",
    "    stock = Ticker(stock_symbol)\n",
    "    historical_data = stock.history(start='2019-01-01', end='2023-01-01')\n",
    "    if historical_data.empty:\n",
    "        print(\"Failed to fetch data for the stock symbol.\")\n",
    "        return\n",
    "\n",
    "    # Calculate Free Cash Flow\n",
    "    historical_data['FCF'] = historical_data['freeCashFlow'].fillna(0)\n",
    "\n",
    "    # Calculate Discount Rate\n",
    "    risk_free_rate = 0.02  # 2% assumed risk-free rate\n",
    "    equity_beta = 1.2  # Assumed equity beta\n",
    "    market_return = 0.08  # Assumed market return\n",
    "    discount_rate = risk_free_rate + (equity_beta * (market_return - risk_free_rate))\n",
    "\n",
    "    # Calculate Present Value of Free Cash Flows\n",
    "    last_fcfs = historical_data['FCF'].values[-1]\n",
    "    growth_rate = 0.03  # Assumed long-term growth rate\n",
    "    terminal_value = (last_fcfs * (1 + growth_rate)) / (discount_rate - growth_rate)\n",
    "    present_value_fcf = np.sum(historical_data['FCF'] / ((1 + discount_rate) ** np.arange(1, len(historical_data) + 1))) + (terminal_value / ((1 + discount_rate) ** len(historical_data)))\n",
    "\n",
    "    # Calculate DCF\n",
    "    market_cap = stock.financial_data[stock_symbol]['marketCap']\n",
    "    dcf = present_value_fcf / market_cap\n",
    "\n",
    "    return dcf"
   ]
  },
  {
   "cell_type": "code",
   "execution_count": 128,
   "metadata": {},
   "outputs": [
    {
     "name": "stdout",
     "output_type": "stream",
     "text": [
      "Failed to fetch data for the stock symbol.\n",
      "Discounted Cash Flow (DCF) for appl is: None\n"
     ]
    }
   ],
   "source": [
    "stock_symbol = 'appl'\n",
    "dcf = calculate_dcf(stock_symbol)\n",
    "print(\"Discounted Cash Flow (DCF) for\", stock_symbol, \"is:\", dcf)\n"
   ]
  },
  {
   "cell_type": "code",
   "execution_count": null,
   "metadata": {},
   "outputs": [],
   "source": []
  }
 ],
 "metadata": {
  "kernelspec": {
   "display_name": "yquery_env",
   "language": "python",
   "name": "python3"
  },
  "language_info": {
   "codemirror_mode": {
    "name": "ipython",
    "version": 3
   },
   "file_extension": ".py",
   "mimetype": "text/x-python",
   "name": "python",
   "nbconvert_exporter": "python",
   "pygments_lexer": "ipython3",
   "version": "3.12.2"
  }
 },
 "nbformat": 4,
 "nbformat_minor": 2
}
